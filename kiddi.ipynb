{
 "metadata": {
  "language_info": {
   "codemirror_mode": {
    "name": "ipython",
    "version": 3
   },
   "file_extension": ".py",
   "mimetype": "text/x-python",
   "name": "python",
   "nbconvert_exporter": "python",
   "pygments_lexer": "ipython3",
   "version": "3.7.6"
  },
  "orig_nbformat": 2,
  "kernelspec": {
   "name": "python3",
   "display_name": "Python 3.7.6 64-bit ('base': conda)",
   "metadata": {
    "interpreter": {
     "hash": "5f021aef013e4441acd89d87b9bfc3f892d0fbf3cb661ff97eb05d37935b6dd4"
    }
   }
  }
 },
 "nbformat": 4,
 "nbformat_minor": 2,
 "cells": [
  {
   "cell_type": "code",
   "execution_count": 2,
   "metadata": {},
   "outputs": [],
   "source": [
    "import numpy as np\n",
    "import pandas as pd\n",
    "from pandas.tseries.offsets import MonthEnd\n",
    "import datetime\n",
    "class Kiddi():\n",
    "    def __init__(self, IS_RAW_PATH, IWP_PATH, IWES_PATH, CENCUS_PATH):\n",
    "        is_raw = pd.read_excel(IS_RAW_PATH)\n",
    "        iwp_raw = pd.read_excel(IWP_PATH)\n",
    "        is_raw = pd.read_excel(IWES_PATH)\n",
    "        cencus = pd.read_excel(CENCUS_PATH)"
   ]
  },
  {
   "cell_type": "code",
   "execution_count": null,
   "metadata": {},
   "outputs": [],
   "source": []
  }
 ]
}